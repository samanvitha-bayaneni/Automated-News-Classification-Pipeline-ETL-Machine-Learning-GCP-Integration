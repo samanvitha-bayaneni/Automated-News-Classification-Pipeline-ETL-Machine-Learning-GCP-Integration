{
 "cells": [
  {
   "cell_type": "code",
   "execution_count": 1,
   "metadata": {},
   "outputs": [
    {
     "data": {
      "text/plain": [
       "True"
      ]
     },
     "execution_count": 1,
     "metadata": {},
     "output_type": "execute_result"
    }
   ],
   "source": [
    "import pandas as pd\n",
    "from pymongo import MongoClient\n",
    "import os\n",
    "from pyspark.sql import SparkSession\n",
    "from pyspark.sql import functions as F\n",
    "from dotenv import load_dotenv\n",
    "load_dotenv()"
   ]
  },
  {
   "cell_type": "code",
   "execution_count": 2,
   "metadata": {},
   "outputs": [],
   "source": [
    "MONGODB_URI = os.environ.get('MONGODB_URI')\n",
    "DATABASE_NAME = \"msds697_project\""
   ]
  },
  {
   "cell_type": "code",
   "execution_count": 3,
   "metadata": {},
   "outputs": [],
   "source": [
    "client = MongoClient(MONGODB_URI)\n",
    "db = client[DATABASE_NAME]\n",
    "gnews_collection = db['gnews']\n",
    "twitter_collection = db['twitter']"
   ]
  },
  {
   "cell_type": "code",
   "execution_count": 4,
   "metadata": {},
   "outputs": [
    {
     "name": "stderr",
     "output_type": "stream",
     "text": [
      "Setting default log level to \"WARN\".\n",
      "To adjust logging level use sc.setLogLevel(newLevel). For SparkR, use setLogLevel(newLevel).\n",
      "25/02/28 14:51:35 WARN NativeCodeLoader: Unable to load native-hadoop library for your platform... using builtin-java classes where applicable\n"
     ]
    }
   ],
   "source": [
    "ss = SparkSession.builder.appName('read_from_mongo').getOrCreate()"
   ]
  },
  {
   "cell_type": "code",
   "execution_count": 5,
   "metadata": {},
   "outputs": [],
   "source": [
    "def collection_to_dataframe(collection):\n",
    "    cursor = collection.find()\n",
    "    list_of_dictionaries = list(cursor)\n",
    "    for doc in list_of_dictionaries:\n",
    "        if \"_id\" in doc:\n",
    "            doc[\"_id\"] = str(doc[\"_id\"])\n",
    "    spark_df = ss.createDataFrame(list_of_dictionaries)\n",
    "    if \"_id\" in spark_df.columns:\n",
    "        spark_df = spark_df.drop(\"_id\")\n",
    "    return spark_df"
   ]
  },
  {
   "cell_type": "code",
   "execution_count": 6,
   "metadata": {},
   "outputs": [],
   "source": [
    "gnews = collection_to_dataframe(gnews_collection)\n",
    "twitter = collection_to_dataframe(twitter_collection)"
   ]
  },
  {
   "cell_type": "code",
   "execution_count": 7,
   "metadata": {},
   "outputs": [
    {
     "name": "stdout",
     "output_type": "stream",
     "text": [
      "root\n",
      " |-- date: timestamp (nullable = true)\n",
      " |-- source: string (nullable = true)\n",
      " |-- title: string (nullable = true)\n",
      "\n"
     ]
    }
   ],
   "source": [
    "gnews.printSchema()"
   ]
  },
  {
   "cell_type": "code",
   "execution_count": 8,
   "metadata": {},
   "outputs": [
    {
     "name": "stdout",
     "output_type": "stream",
     "text": [
      "root\n",
      " |-- Source: string (nullable = true)\n",
      " |-- label: long (nullable = true)\n",
      " |-- text: string (nullable = true)\n",
      "\n"
     ]
    }
   ],
   "source": [
    "twitter.printSchema()"
   ]
  },
  {
   "cell_type": "code",
   "execution_count": 9,
   "metadata": {},
   "outputs": [
    {
     "name": "stderr",
     "output_type": "stream",
     "text": [
      "[Stage 0:>                                                        (0 + 10) / 10]\r"
     ]
    },
    {
     "name": "stdout",
     "output_type": "stream",
     "text": [
      "+--------------------+---------------+\n",
      "|              source|count_by_source|\n",
      "+--------------------+---------------+\n",
      "|            NBC News|           3111|\n",
      "|The Associated Press|           1460|\n",
      "|            CBS News|           1154|\n",
      "|            ABC News|            829|\n",
      "|        PBS NewsHour|            388|\n",
      "|                 CNN|            180|\n",
      "|                 NPR|            119|\n",
      "|  The New York Times|             64|\n",
      "|            Fox News|             60|\n",
      "|             Reuters|             22|\n",
      "|           USA TODAY|             19|\n",
      "| The Washington Post|             11|\n",
      "|The Wall Street J...|              7|\n",
      "|           Bloomberg|              6|\n",
      "|                 PBS|              4|\n",
      "|   CNN International|              2|\n",
      "|   Los Angeles Times|              2|\n",
      "|      CNN Press Room|              2|\n",
      "|   Reuters Institute|              2|\n",
      "|The New York Time...|              2|\n",
      "+--------------------+---------------+\n",
      "\n"
     ]
    },
    {
     "name": "stderr",
     "output_type": "stream",
     "text": [
      "                                                                                \r"
     ]
    }
   ],
   "source": [
    "gnews.groupBy('source').agg(F.count('title').alias('count_by_source')).sort('count_by_source',ascending=0).show()"
   ]
  },
  {
   "cell_type": "code",
   "execution_count": 10,
   "metadata": {},
   "outputs": [
    {
     "name": "stdout",
     "output_type": "stream",
     "text": [
      "+--------------------+---------------+\n",
      "|              source|count_by_source|\n",
      "+--------------------+---------------+\n",
      "|            NBC News|           3111|\n",
      "|The Associated Press|           1460|\n",
      "|            CBS News|           1154|\n",
      "|            ABC News|            829|\n",
      "|        PBS NewsHour|            388|\n",
      "|                 CNN|            180|\n",
      "|                 NPR|            119|\n",
      "|  The New York Times|             64|\n",
      "|            Fox News|             60|\n",
      "|             Reuters|             22|\n",
      "|           USA TODAY|             19|\n",
      "| The Washington Post|             11|\n",
      "|The Wall Street J...|              7|\n",
      "|           Bloomberg|              6|\n",
      "|                 PBS|              4|\n",
      "|   CNN International|              2|\n",
      "|   Los Angeles Times|              2|\n",
      "|      CNN Press Room|              2|\n",
      "|   Reuters Institute|              2|\n",
      "|The New York Time...|              2|\n",
      "+--------------------+---------------+\n",
      "\n"
     ]
    }
   ],
   "source": [
    "gnews.createOrReplaceTempView(\"gnews_table\")\n",
    "\n",
    "ss.sql(\"\"\"\n",
    "    SELECT source, COUNT(title) AS count_by_source\n",
    "    FROM gnews_table\n",
    "    GROUP BY source\n",
    "    ORDER BY count_by_source DESC\n",
    "\"\"\").show()"
   ]
  },
  {
   "cell_type": "code",
   "execution_count": 11,
   "metadata": {},
   "outputs": [
    {
     "name": "stdout",
     "output_type": "stream",
     "text": [
      "+-------+---------------+\n",
      "| Source|count_by_source|\n",
      "+-------+---------------+\n",
      "|FoxNews|           1002|\n",
      "|   ESPN|            426|\n",
      "|Twitter|            398|\n",
      "+-------+---------------+\n",
      "\n"
     ]
    }
   ],
   "source": [
    "twitter.groupBy('Source').agg(F.count('text').alias('count_by_source')).sort('count_by_source',ascending=0).show()"
   ]
  },
  {
   "cell_type": "code",
   "execution_count": 12,
   "metadata": {},
   "outputs": [
    {
     "name": "stdout",
     "output_type": "stream",
     "text": [
      "+-------+---------------+\n",
      "| Source|count_by_source|\n",
      "+-------+---------------+\n",
      "|FoxNews|           1002|\n",
      "|   ESPN|            426|\n",
      "|Twitter|            398|\n",
      "+-------+---------------+\n",
      "\n"
     ]
    }
   ],
   "source": [
    "twitter.createOrReplaceTempView(\"twitter_table\")\n",
    "\n",
    "ss.sql(\"\"\"\n",
    "    SELECT Source, COUNT(text) AS count_by_source\n",
    "    FROM twitter_table\n",
    "    GROUP BY Source\n",
    "    ORDER BY count_by_source DESC\n",
    "\"\"\").show()"
   ]
  },
  {
   "cell_type": "code",
   "execution_count": null,
   "metadata": {},
   "outputs": [],
   "source": []
  }
 ],
 "metadata": {
  "kernelspec": {
   "display_name": "DistributedComputing",
   "language": "python",
   "name": "python3"
  },
  "language_info": {
   "codemirror_mode": {
    "name": "ipython",
    "version": 3
   },
   "file_extension": ".py",
   "mimetype": "text/x-python",
   "name": "python",
   "nbconvert_exporter": "python",
   "pygments_lexer": "ipython3",
   "version": "3.8.18"
  }
 },
 "nbformat": 4,
 "nbformat_minor": 2
}
